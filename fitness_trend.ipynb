{
 "cells": [
  {
   "cell_type": "markdown",
   "metadata": {},
   "source": [
    "# Trend Fitness"
   ]
  },
  {
   "cell_type": "code",
   "execution_count": 4,
   "metadata": {},
   "outputs": [],
   "source": [
    "import pandas as pd\n",
    "import numpy as np\n",
    "from sklearn.metrics.pairwise import cosine_similarity\n",
    "from sklearn.preprocessing import OneHotEncoder, MultiLabelBinarizer"
   ]
  },
  {
   "cell_type": "code",
   "execution_count": 13,
   "metadata": {},
   "outputs": [],
   "source": [
    "class RecommendationSystem:\n",
    "    def __init__(self, df):\n",
    "        self.df = df\n",
    "\n",
    "    def collaborative_filtering(self, user_id, num_recommendations=5):\n",
    "        user_profile = self.df.loc[self.df['User ID'] == user_id]\n",
    "\n",
    "        # Extract relevant features for collaborative filtering\n",
    "        user_features = user_profile[['Primary Fitness Goal', 'Physical Activity Level']]\n",
    "        all_features = self.df[['Primary Fitness Goal', 'Physical Activity Level']]\n",
    "\n",
    "        # Concatenate user features with all features\n",
    "        concatenated_features = pd.concat([user_features, all_features])\n",
    "\n",
    "        # Encode categorical variables\n",
    "        encoder = OneHotEncoder(drop='first', handle_unknown='ignore')\n",
    "        encoded_features = encoder.fit_transform(concatenated_features)\n",
    "\n",
    "        #print(\"Categories discovered by the encoder:\")\n",
    "        #print(encoder.categories_)\n",
    "\n",
    "        # Split encoded features back into user and all features\n",
    "        user_features_encoded = encoded_features[:1]\n",
    "        all_features_encoded = encoded_features[1:]\n",
    "\n",
    "        #print(\"\\nShapes of encoded user and all features:\")\n",
    "        #print(user_features_encoded.shape, all_features_encoded.shape)\n",
    "\n",
    "        # Compute similarity between the target user and all users\n",
    "        similarities = cosine_similarity(user_features_encoded, all_features_encoded)[0]\n",
    "\n",
    "        #print(\"\\nSimilarities array shape:\")\n",
    "        #print(similarities.shape)\n",
    "\n",
    "        # Find most similar users\n",
    "        similar_users_indices = similarities.argsort()[::-1][1:]  # Exclude the target user\n",
    "        similar_users = self.df.iloc[similar_users_indices]\n",
    "\n",
    "        # Generate recommendations based on similar users' preferences\n",
    "        recommendations = {\n",
    "            'Nutritional Preferences': similar_users['Nutritional Preferences'].tolist()[:num_recommendations],\n",
    "            'Fitness Environment': similar_users['Fitness Environment'].tolist()[:num_recommendations]\n",
    "        }\n",
    "        return recommendations\n",
    "        \n",
    "   \n",
    "    def content_based_filtering(self, user_id, num_recommendations=5):\n",
    "        user_profile = self.df.loc[self.df['User ID'] == user_id]\n",
    "\n",
    "        # Extract user preferences\n",
    "        user_preferences = user_profile[['Primary Fitness Goal', 'Physical Activity Level', 'Nutritional Preferences', 'Fitness Environment', 'Time Commitment']]\n",
    "\n",
    "        # Extract item features\n",
    "        item_features = self.df[['Primary Fitness Goal', 'Physical Activity Level', 'Nutritional Preferences', 'Fitness Environment', 'Time Commitment']]\n",
    "\n",
    "        # Encode user preferences\n",
    "        mlb = MultiLabelBinarizer()\n",
    "        user_features_encoded = mlb.fit_transform(user_preferences.values)\n",
    "\n",
    "        #print(\"User preferences shape:\", user_features_encoded.shape)\n",
    "\n",
    "        # Encode item features\n",
    "        item_features_encoded = mlb.transform(item_features.values)\n",
    "\n",
    "        #print(\"Item features shape:\", item_features_encoded.shape)\n",
    "\n",
    "        # Compute similarity between items and user preferences\n",
    "        similarities = cosine_similarity(user_features_encoded, item_features_encoded)\n",
    "\n",
    "        #print(\"Similarities array shape:\", similarities.shape)\n",
    "\n",
    "        # Sort items based on similarity and recommend top ones\n",
    "        similar_items_indices = similarities.argsort()[0][::-1]\n",
    "        recommendations = {\n",
    "            'Fitness Environment': self.df.iloc[similar_items_indices]['Fitness Environment'].tolist()[:num_recommendations],\n",
    "            'Nutritional Preferences': self.df.iloc[similar_items_indices]['Nutritional Preferences'].tolist()[:num_recommendations],\n",
    "        }\n",
    "\n",
    "        return recommendations"
   ]
  },
  {
   "cell_type": "code",
   "execution_count": 14,
   "metadata": {},
   "outputs": [
    {
     "name": "stdout",
     "output_type": "stream",
     "text": [
      "Collaborative Filtering Recommendations: {'Nutritional Preferences': ['Low Carb Diet', 'Low Calorie Diet', 'Low Carb Diet', 'Keto Diet', 'Keto Diet'], 'Fitness Environment': ['Outdoor Bootcamp', 'HIIT Studio', 'Outdoor Bootcamp', 'Boxing Gym', 'Boxing Gym']}\n",
      "Content-Based Filtering Recommendations: {'Fitness Environment': ['Outdoor Bootcamp', 'Outdoor Bootcamp', 'Outdoor Bootcamp', 'Outdoor Bootcamp', 'Outdoor Bootcamp'], 'Nutritional Preferences': ['Low Carb Diet', 'Low Carb Diet', 'Low Carb Diet', 'Low Carb Diet', 'Low Carb Diet']}\n"
     ]
    },
    {
     "name": "stderr",
     "output_type": "stream",
     "text": [
      "d:\\workspace\\Django Project\\venv\\Lib\\site-packages\\sklearn\\preprocessing\\_label.py:900: UserWarning: unknown class(es) ['1-3 hours per week', '5-7 hours per week', 'Alkaline Diet', 'Anti-Inflammatory Diet', 'Athletic Performance', 'Athletic Training Facility', 'Balanced Diet', 'Beach Yoga', 'Bodybuilding Gym', 'Bodyweight Fitness Park', 'Boxing Gym', 'Calcium-Rich Diet', 'Commercial Gym', 'Community Center', 'Community Fitness Center', 'Community Recreation Center', 'Core Strength', 'CrossFit Box', 'Cycling Club', 'Cycling Studio', 'Endurance', 'Fitness Center', 'Flexibility', 'Gluten-Free Diet', 'Group Fitness Classes', 'Gym', 'HIIT Studio', 'Heart-Healthy Diet', 'High', 'High Carb Diet', 'High Fiber Diet', 'High Protein Diet', 'Home Gym', 'Home Workout Space', 'Home Workouts', 'Indoor Cycling Studio', 'Injury Prevention', 'Intermittent Fasting', 'Keto Diet', 'Ketogenic Diet', 'Low', 'Low Calorie Diet', 'Low Fat Diet', 'Low Glycemic Diet', 'Low Sodium Diet', 'Macrobiotic Diet', 'Mediterranean Diet', 'Mindful Eating', 'Mindfulness Center', 'Mindfulness Retreat', 'Mindfulness Studio', 'Muscle Gain', 'Outdoors', 'Overall Health', 'Paleo Diet', 'Park/Trails', 'Physical Therapy Center', 'Physical Therapy Clinic', 'Physical Therapy Studio', 'Pilates Studio', 'Plant-Based Diet', 'Portion Control Diet', 'Powerlifting Gym', 'Private Gym', 'Protein-Rich Diet', 'Recreational Center', 'Recreational Sports', 'Rehabilitation Center', 'Rehabilitation Facility', 'Rehabilitation Gym', 'Running Track', 'Running Trails', 'Senior Center', 'Senior Fitness Center', 'Senior Fitness Class', 'Sports Arena', 'Sports Club', 'Sports Complex', 'Strength Training Gym', 'Stress Relief', 'Stretching Studio', 'Swimming Pool', 'Track and Field', 'Vegan Diet', 'Vegetarian Diet', 'Weight Maintenance', 'Whole Foods Diet', 'YMCA', 'Yoga Studio'] will be ignored\n",
      "  warnings.warn(\n"
     ]
    }
   ],
   "source": [
    "\n",
    "# Read dataset\n",
    "data = pd.read_csv('fitness_dataset.csv')\n",
    "\n",
    "df = pd.DataFrame(data)\n",
    "\n",
    "\n",
    "# Instantiate recommendation system\n",
    "recommendation_system = RecommendationSystem(df)\n",
    "\n",
    "# Example usage\n",
    "user_id = 200\n",
    "\n",
    "collaborative_recommendations = recommendation_system.collaborative_filtering(user_id)\n",
    "content_based_recommendations = recommendation_system.content_based_filtering(user_id)\n",
    "\n",
    "print(\"Collaborative Filtering Recommendations:\", collaborative_recommendations)\n",
    "print(\"Content-Based Filtering Recommendations:\", content_based_recommendations)"
   ]
  }
 ],
 "metadata": {
  "kernelspec": {
   "display_name": "sneaksaver-venv",
   "language": "python",
   "name": "python3"
  },
  "language_info": {
   "codemirror_mode": {
    "name": "ipython",
    "version": 3
   },
   "file_extension": ".py",
   "mimetype": "text/x-python",
   "name": "python",
   "nbconvert_exporter": "python",
   "pygments_lexer": "ipython3",
   "version": "3.11.3"
  }
 },
 "nbformat": 4,
 "nbformat_minor": 2
}
